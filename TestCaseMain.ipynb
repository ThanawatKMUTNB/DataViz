{
 "cells": [
  {
   "cell_type": "code",
   "execution_count": 2,
   "metadata": {},
   "outputs": [],
   "source": [
    "from email import header\n",
    "from msilib.schema import Class\n",
    "from operator import mod\n",
    "import os\n",
    "import sys\n",
    "from PyQt5 import QtCore, QtGui, QtWidgets\n",
    "from PyQt5.QtCore import QEvent,Qt\n",
    "from PyQt5.QtWidgets import *\n",
    "from PyQt5.QtChart import QChart, QChartView, QBarSet, QPercentBarSeries, QBarCategoryAxis, QLineSeries\n",
    "import numpy as np\n",
    "import pandas as pd\n",
    "from io import StringIO\n",
    "from Altair_Graph.Bar_Chart import WebEngineView\n",
    "import csvManager as cm\n",
    "import filterMes\n",
    "import filterDimen\n",
    "from PyQt5.QtCore import Qt, QPointF\n",
    "from PyQt5 import QtCore, QtGui, QtWidgets , QtChart ,QtWebEngineWidgets\n",
    "from PyQt5.QtChart import QChart\n",
    "from PyQt5.QtGui import QPainter\n",
    "from matplotlib.backends.backend_qt5agg import FigureCanvasQTAgg as FigureCanvas\n",
    "import altair as alt\n",
    "from PyQt5.QtWidgets import (QApplication, QMainWindow)\n",
    "from PyQt5.QtChart import QChart, QChartView, QHorizontalBarSeries, QBarSet, QBarCategoryAxis, QValueAxis\n",
    "#from qgis.PyQt.QtWidgets import QVBoxLayout\n",
    "#from altair import pipe, limit_rows, to_values\n",
    "import altair_viewer\n",
    "import graphManager \n",
    "path = \"C:\\\\Users\\\\Pooncharat Wongkom\\\\Desktop\\\\Test2\\\\TableauDataAnalysis\\\\TableauDataAnalysis\\\\SS_5lines.csv\"\n",
    "df = pd.read_csv(path, encoding='windows-1252')\n",
    "Dimension =  [\n",
    "        \"Row ID\",\n",
    "        \"Order ID\",\n",
    "        \"Order Date\",\n",
    "        \"Ship Date\",\n",
    "        \"Ship Mode\",\n",
    "        \"Customer ID\",\n",
    "        \"Customer Name\",\n",
    "        \"Segment\",\n",
    "        \"Country/Region\",\n",
    "        \"City\",\n",
    "        \"State\",\n",
    "        \"Postal Code\",\n",
    "        \"Region\",\n",
    "        \"Product ID\",\n",
    "        \"Category\",\n",
    "        \"Sub-Category\",\n",
    "        \"Product Name\"\n",
    "    ]\n",
    "Measurment = [\n",
    "        \"Sales\",\n",
    "        \"Quantity\",\n",
    "        \"Discount\",\n",
    "        \"Profit\"\n",
    "    ]"
   ]
  },
  {
   "cell_type": "code",
   "execution_count": 3,
   "metadata": {},
   "outputs": [],
   "source": [
    "#Table Model12"
   ]
  },
  {
   "cell_type": "code",
   "execution_count": 4,
   "metadata": {},
   "outputs": [
    {
     "name": "stdout",
     "output_type": "stream",
     "text": [
      "None\n"
     ]
    }
   ],
   "source": [
    "data = \"\"\n",
    "def data(index, role):\n",
    "    if role == Qt.DisplayRole:\n",
    "        value = data.iloc[index.row(), index.column()]\n",
    "        print(\"Value \",value)\n",
    "        return str(value)\n",
    "print(data(Dimension,Measurment))"
   ]
  },
  {
   "cell_type": "code",
   "execution_count": 5,
   "metadata": {},
   "outputs": [
    {
     "data": {
      "text/plain": [
       "5"
      ]
     },
     "execution_count": 5,
     "metadata": {},
     "output_type": "execute_result"
    }
   ],
   "source": [
    "def rowCount(index):\n",
    "    return df.shape[0]\n",
    "rowCount(df)"
   ]
  },
  {
   "cell_type": "code",
   "execution_count": 6,
   "metadata": {},
   "outputs": [
    {
     "data": {
      "text/plain": [
       "21"
      ]
     },
     "execution_count": 6,
     "metadata": {},
     "output_type": "execute_result"
    }
   ],
   "source": [
    "def columnCount(index):\n",
    "    return df.shape[1]\n",
    "columnCount(df)"
   ]
  },
  {
   "cell_type": "code",
   "execution_count": 7,
   "metadata": {},
   "outputs": [],
   "source": [
    "def headerData(section, orientation, role): #show Header on column\n",
    "    # section is the index of the column/row.\n",
    "    if role == Qt.DisplayRole:\n",
    "        if orientation == Qt.Horizontal: #x\n",
    "            if type(df.columns[section]) == tuple:\n",
    "                head = df.columns.names\n",
    "                head = [ \"%s\" % x for x in list(head) ]\n",
    "                if len(head) > 1 :head = [\"\\\\\".join(head)]\n",
    "                colN = [ \"%s\" % x for x in list(df.columns[section]) ]\n",
    "                colN = \"\\n\".join(colN)\n",
    "            else: \n",
    "                colN = str(df.columns[section])\n",
    "            return colN\n",
    "            \n",
    "        if orientation == Qt.Vertical: #y\n",
    "            if type(df.index[section]) == tuple:\n",
    "                head = df.index.names\n",
    "                head = [ \"%s\" % x for x in list(head) ]\n",
    "                if len(head) > 1 :head = [\"\\\\\".join(head)]\n",
    "                indexN = [ \"%s\" % x for x in list(df.index[section]) ]\n",
    "                indexN = \" \".join(indexN)\n",
    "            else: \n",
    "                indexN = str(df.index[section])\n",
    "            return indexN\n"
   ]
  },
  {
   "cell_type": "code",
   "execution_count": 8,
   "metadata": {},
   "outputs": [],
   "source": [
    "#TableModel"
   ]
  },
  {
   "cell_type": "code",
   "execution_count": 9,
   "metadata": {},
   "outputs": [
    {
     "name": "stdout",
     "output_type": "stream",
     "text": [
      "None\n"
     ]
    }
   ],
   "source": [
    "def data(index, role): \n",
    "    if role == Qt.DisplayRole:\n",
    "        #print(\">\", len(self._data))\n",
    "        value = df.iloc[index.row(), index.column()]\n",
    "        #print(\"----\",value)\n",
    "        return str(value)\n",
    "print(data(Dimension,Measurment))"
   ]
  },
  {
   "cell_type": "code",
   "execution_count": 10,
   "metadata": {},
   "outputs": [
    {
     "data": {
      "text/plain": [
       "5"
      ]
     },
     "execution_count": 10,
     "metadata": {},
     "output_type": "execute_result"
    }
   ],
   "source": [
    "def rowCount(index):\n",
    "    return df.shape[0]\n",
    "rowCount(df)"
   ]
  },
  {
   "cell_type": "code",
   "execution_count": 11,
   "metadata": {},
   "outputs": [
    {
     "data": {
      "text/plain": [
       "21"
      ]
     },
     "execution_count": 11,
     "metadata": {},
     "output_type": "execute_result"
    }
   ],
   "source": [
    "def columnCount(index):\n",
    "    return df.shape[1]\n",
    "columnCount(df)"
   ]
  },
  {
   "cell_type": "code",
   "execution_count": 12,
   "metadata": {},
   "outputs": [],
   "source": [
    "def headerData(section, orientation, role): #show Header on column\n",
    "    # section is the index of the column/row.\n",
    "    if role == Qt.DisplayRole:\n",
    "        if orientation == Qt.Horizontal: #x\n",
    "            return df.columns[section]\n"
   ]
  },
  {
   "cell_type": "code",
   "execution_count": 13,
   "metadata": {},
   "outputs": [],
   "source": [
    "#Ui_MainWindow"
   ]
  },
  {
   "cell_type": "code",
   "execution_count": 14,
   "metadata": {},
   "outputs": [
    {
     "name": "stdout",
     "output_type": "stream",
     "text": [
      "Not Union\n",
      "\n"
     ]
    }
   ],
   "source": [
    "\n",
    "folderpath = \"C:\\\\Users\\\\Pooncharat Wongkom\\\\Desktop\\\\Test2\\\\TableauDataAnalysis\\\\TableauDataAnalysis\"\n",
    "selectFile = \"SS_5lines.csv\"\n",
    "path = \"C:\\\\Users\\\\Pooncharat Wongkom\\\\Desktop\\\\Test2\\\\TableauDataAnalysis\\\\TableauDataAnalysis\"\n",
    "df = \"\"\n",
    "def setPath():\n",
    "        pathBuf = os.path.join(path,selectFile) \n",
    "        df = pd.read_csv(pathBuf, encoding='windows-1252')\n",
    "        return df\n",
    "def getDataWithPandas():\n",
    "        return df\n",
    "def dataSource():\n",
    "    #print(self.selectFile)\n",
    "    selectFile = \"SS_5lines.csv\"\n",
    "    if type(selectFile) != list:\n",
    "        selectFile = [selectFile]\n",
    "    if selectFile != [] :\n",
    "        if len(selectFile)>1:\n",
    "            print(\"Union\")\n",
    "            data = cm.unionFile(selectFile)\n",
    "        else:\n",
    "            print(\"Not Union\")\n",
    "            cm.path = folderpath\n",
    "            cm.selectFile = selectFile[0] \n",
    "            setPath()\n",
    "            data = getDataWithPandas()\n",
    "        print(data)\n",
    "dataSource()"
   ]
  },
  {
   "cell_type": "code",
   "execution_count": 15,
   "metadata": {},
   "outputs": [
    {
     "ename": "AttributeError",
     "evalue": "'str' object has no attribute 'sort_values'",
     "output_type": "error",
     "traceback": [
      "\u001b[1;31m---------------------------------------------------------------------------\u001b[0m",
      "\u001b[1;31mAttributeError\u001b[0m                            Traceback (most recent call last)",
      "\u001b[1;32mc:\\Users\\Pooncharat Wongkom\\Desktop\\Test2\\TableauDataAnalysis\\TableauDataAnalysis\\TestCaseMain.ipynb Cell 14'\u001b[0m in \u001b[0;36m<module>\u001b[1;34m\u001b[0m\n\u001b[0;32m      <a href='vscode-notebook-cell:/c%3A/Users/Pooncharat%20Wongkom/Desktop/Test2/TableauDataAnalysis/TableauDataAnalysis/TestCaseMain.ipynb#ch0000013?line=5'>6</a>\u001b[0m     data \u001b[39m=\u001b[39m setAllDataByOneDimension(dimension)\n\u001b[0;32m      <a href='vscode-notebook-cell:/c%3A/Users/Pooncharat%20Wongkom/Desktop/Test2/TableauDataAnalysis/TableauDataAnalysis/TestCaseMain.ipynb#ch0000013?line=6'>7</a>\u001b[0m     \u001b[39mprint\u001b[39m(data)\n\u001b[1;32m----> <a href='vscode-notebook-cell:/c%3A/Users/Pooncharat%20Wongkom/Desktop/Test2/TableauDataAnalysis/TableauDataAnalysis/TestCaseMain.ipynb#ch0000013?line=7'>8</a>\u001b[0m dataSourceSort(Dimension)\n",
      "\u001b[1;32mc:\\Users\\Pooncharat Wongkom\\Desktop\\Test2\\TableauDataAnalysis\\TableauDataAnalysis\\TestCaseMain.ipynb Cell 14'\u001b[0m in \u001b[0;36mdataSourceSort\u001b[1;34m(dimension)\u001b[0m\n\u001b[0;32m      <a href='vscode-notebook-cell:/c%3A/Users/Pooncharat%20Wongkom/Desktop/Test2/TableauDataAnalysis/TableauDataAnalysis/TestCaseMain.ipynb#ch0000013?line=4'>5</a>\u001b[0m \u001b[39mdef\u001b[39;00m \u001b[39mdataSourceSort\u001b[39m(dimension):\n\u001b[1;32m----> <a href='vscode-notebook-cell:/c%3A/Users/Pooncharat%20Wongkom/Desktop/Test2/TableauDataAnalysis/TableauDataAnalysis/TestCaseMain.ipynb#ch0000013?line=5'>6</a>\u001b[0m     data \u001b[39m=\u001b[39m setAllDataByOneDimension(dimension)\n\u001b[0;32m      <a href='vscode-notebook-cell:/c%3A/Users/Pooncharat%20Wongkom/Desktop/Test2/TableauDataAnalysis/TableauDataAnalysis/TestCaseMain.ipynb#ch0000013?line=6'>7</a>\u001b[0m     \u001b[39mprint\u001b[39m(data)\n",
      "\u001b[1;32mc:\\Users\\Pooncharat Wongkom\\Desktop\\Test2\\TableauDataAnalysis\\TableauDataAnalysis\\TestCaseMain.ipynb Cell 14'\u001b[0m in \u001b[0;36msetAllDataByOneDimension\u001b[1;34m(Dimension)\u001b[0m\n\u001b[0;32m      <a href='vscode-notebook-cell:/c%3A/Users/Pooncharat%20Wongkom/Desktop/Test2/TableauDataAnalysis/TableauDataAnalysis/TestCaseMain.ipynb#ch0000013?line=0'>1</a>\u001b[0m \u001b[39mdef\u001b[39;00m \u001b[39msetAllDataByOneDimension\u001b[39m(Dimension): \u001b[39m#sort each column\u001b[39;00m\n\u001b[0;32m      <a href='vscode-notebook-cell:/c%3A/Users/Pooncharat%20Wongkom/Desktop/Test2/TableauDataAnalysis/TableauDataAnalysis/TestCaseMain.ipynb#ch0000013?line=1'>2</a>\u001b[0m     data \u001b[39m=\u001b[39m df\n\u001b[1;32m----> <a href='vscode-notebook-cell:/c%3A/Users/Pooncharat%20Wongkom/Desktop/Test2/TableauDataAnalysis/TableauDataAnalysis/TestCaseMain.ipynb#ch0000013?line=2'>3</a>\u001b[0m     new \u001b[39m=\u001b[39m data\u001b[39m.\u001b[39;49msort_values(by\u001b[39m=\u001b[39mDimension)\n\u001b[0;32m      <a href='vscode-notebook-cell:/c%3A/Users/Pooncharat%20Wongkom/Desktop/Test2/TableauDataAnalysis/TableauDataAnalysis/TestCaseMain.ipynb#ch0000013?line=3'>4</a>\u001b[0m     \u001b[39mreturn\u001b[39;00m new\n",
      "\u001b[1;31mAttributeError\u001b[0m: 'str' object has no attribute 'sort_values'"
     ]
    }
   ],
   "source": [
    "def setAllDataByOneDimension(Dimension): #sort each column\n",
    "    data = df\n",
    "    new = data.sort_values(by=Dimension)\n",
    "    return new\n",
    "def dataSourceSort(dimension):\n",
    "    data = setAllDataByOneDimension(dimension)\n",
    "    print(data)\n",
    "dataSourceSort(Dimension)"
   ]
  },
  {
   "cell_type": "code",
   "execution_count": 20,
   "metadata": {},
   "outputs": [
    {
     "name": "stdout",
     "output_type": "stream",
     "text": [
      "Start ['Row ID', 'Order ID', 'Order Date', 'Ship Date', 'Ship Mode', 'Customer ID', 'Customer Name', 'Segment', 'Country/Region', 'City', 'State', 'Postal Code', 'Region', 'Product ID', 'Category', 'Sub-Category', 'Product Name'] ['Sales', 'Quantity', 'Discount', 'Profit'] 17 4\n",
      "Start ['Row ID', 'Order ID', 'Order Date', 'Ship Date', 'Ship Mode', 'Customer ID', 'Customer Name', 'Segment', 'Country/Region', 'City', 'State', 'Postal Code', 'Region', 'Product ID', 'Category', 'Sub-Category', 'Product Name'] ['Sales', 'Quantity', 'Discount', 'Profit'] 17 4\n"
     ]
    },
    {
     "ename": "AttributeError",
     "evalue": "module 'csvManager' has no attribute 'setRowAndColumn'",
     "output_type": "error",
     "traceback": [
      "\u001b[1;31m---------------------------------------------------------------------------\u001b[0m",
      "\u001b[1;31mAttributeError\u001b[0m                            Traceback (most recent call last)",
      "\u001b[1;32mc:\\Users\\Pooncharat Wongkom\\Desktop\\Test2\\TableauDataAnalysis\\TableauDataAnalysis\\TestCaseMain.ipynb Cell 15'\u001b[0m in \u001b[0;36m<module>\u001b[1;34m\u001b[0m\n\u001b[0;32m     <a href='vscode-notebook-cell:/c%3A/Users/Pooncharat%20Wongkom/Desktop/Test2/TableauDataAnalysis/TableauDataAnalysis/TestCaseMain.ipynb#ch0000014?line=23'>24</a>\u001b[0m     \u001b[39mif\u001b[39;00m Row\u001b[39m!=\u001b[39m[] \u001b[39mor\u001b[39;00m Col\u001b[39m!=\u001b[39m[]:\n\u001b[0;32m     <a href='vscode-notebook-cell:/c%3A/Users/Pooncharat%20Wongkom/Desktop/Test2/TableauDataAnalysis/TableauDataAnalysis/TestCaseMain.ipynb#ch0000014?line=24'>25</a>\u001b[0m         dataSheet \u001b[39m=\u001b[39m cm\u001b[39m.\u001b[39msetRowAndColumn(Row,Col)\n\u001b[1;32m---> <a href='vscode-notebook-cell:/c%3A/Users/Pooncharat%20Wongkom/Desktop/Test2/TableauDataAnalysis/TableauDataAnalysis/TestCaseMain.ipynb#ch0000014?line=25'>26</a>\u001b[0m sheetPageRowAndCol(Dimension,Measurment)\n",
      "\u001b[1;32mc:\\Users\\Pooncharat Wongkom\\Desktop\\Test2\\TableauDataAnalysis\\TableauDataAnalysis\\TestCaseMain.ipynb Cell 15'\u001b[0m in \u001b[0;36msheetPageRowAndCol\u001b[1;34m(Row, Col)\u001b[0m\n\u001b[0;32m      <a href='vscode-notebook-cell:/c%3A/Users/Pooncharat%20Wongkom/Desktop/Test2/TableauDataAnalysis/TableauDataAnalysis/TestCaseMain.ipynb#ch0000014?line=8'>9</a>\u001b[0m \u001b[39m'''if len(set(Col)) == 0 : \u001b[39;00m\n\u001b[0;32m     <a href='vscode-notebook-cell:/c%3A/Users/Pooncharat%20Wongkom/Desktop/Test2/TableauDataAnalysis/TableauDataAnalysis/TestCaseMain.ipynb#ch0000014?line=9'>10</a>\u001b[0m \u001b[39m    print(\"Row\")\u001b[39;00m\n\u001b[0;32m     <a href='vscode-notebook-cell:/c%3A/Users/Pooncharat%20Wongkom/Desktop/Test2/TableauDataAnalysis/TableauDataAnalysis/TestCaseMain.ipynb#ch0000014?line=10'>11</a>\u001b[0m \u001b[39m    self.sheetPageRow()\u001b[39;00m\n\u001b[1;32m   (...)\u001b[0m\n\u001b[0;32m     <a href='vscode-notebook-cell:/c%3A/Users/Pooncharat%20Wongkom/Desktop/Test2/TableauDataAnalysis/TableauDataAnalysis/TestCaseMain.ipynb#ch0000014?line=21'>22</a>\u001b[0m \u001b[39m    print(\"Row and Col\")\u001b[39;00m\n\u001b[0;32m     <a href='vscode-notebook-cell:/c%3A/Users/Pooncharat%20Wongkom/Desktop/Test2/TableauDataAnalysis/TableauDataAnalysis/TestCaseMain.ipynb#ch0000014?line=22'>23</a>\u001b[0m \u001b[39m    #self.plotLineChart()'''\u001b[39;00m\n\u001b[0;32m     <a href='vscode-notebook-cell:/c%3A/Users/Pooncharat%20Wongkom/Desktop/Test2/TableauDataAnalysis/TableauDataAnalysis/TestCaseMain.ipynb#ch0000014?line=23'>24</a>\u001b[0m \u001b[39mif\u001b[39;00m Row\u001b[39m!=\u001b[39m[] \u001b[39mor\u001b[39;00m Col\u001b[39m!=\u001b[39m[]:\n\u001b[1;32m---> <a href='vscode-notebook-cell:/c%3A/Users/Pooncharat%20Wongkom/Desktop/Test2/TableauDataAnalysis/TableauDataAnalysis/TestCaseMain.ipynb#ch0000014?line=24'>25</a>\u001b[0m     dataSheet \u001b[39m=\u001b[39m cm\u001b[39m.\u001b[39;49msetRowAndColumn(Row,Col)\n",
      "\u001b[1;31mAttributeError\u001b[0m: module 'csvManager' has no attribute 'setRowAndColumn'"
     ]
    }
   ],
   "source": [
    "MeasureChoose = \"\"\n",
    "def sheetPageRowAndCol(Row,Col):\n",
    "    print(\"Start\",Row,Col,len(set(Row)),len(set(Col)))\n",
    "    while (Row.count('')):\n",
    "        Row.remove('')\n",
    "    while (Col.count('')):\n",
    "        Col.remove('')\n",
    "    print(\"Start\",Row,Col,len(set(Row)),len(set(Col)))\n",
    "    '''if len(set(Col)) == 0 : \n",
    "        print(\"Row\")\n",
    "        self.sheetPageRow()\n",
    "        if Row[-1] in self.Measure:\n",
    "            self.MeasureChoose = Row[-1]\n",
    "            #self.plotBarChart()\n",
    "    elif len(set(Row)) == 0:\n",
    "        print(\"Col\") \n",
    "        self.sheetPageCol()\n",
    "        if Col[-1] in self.Measure:\n",
    "            self.MeasureChoose = Col[-1]\n",
    "            #self.plotBarChart()\n",
    "    else : \n",
    "        print(\"Row and Col\")\n",
    "        #self.plotLineChart()'''\n",
    "    if Row!=[] or Col!=[]:\n",
    "        dataSheet = cm.setRowAndColumn(Row,Col)\n",
    "sheetPageRowAndCol(Dimension,Measurment)"
   ]
  }
 ],
 "metadata": {
  "interpreter": {
   "hash": "f84231f2c9c44ed119e703d0f652a835878bf362b754835bda9855740dec1655"
  },
  "kernelspec": {
   "display_name": "Python 3.10.2 64-bit",
   "language": "python",
   "name": "python3"
  },
  "language_info": {
   "codemirror_mode": {
    "name": "ipython",
    "version": 3
   },
   "file_extension": ".py",
   "mimetype": "text/x-python",
   "name": "python",
   "nbconvert_exporter": "python",
   "pygments_lexer": "ipython3",
   "version": "3.10.2"
  },
  "orig_nbformat": 4
 },
 "nbformat": 4,
 "nbformat_minor": 2
}
