{
 "cells": [
  {
   "cell_type": "code",
   "execution_count": null,
   "metadata": {},
   "outputs": [],
   "source": [
    "import sys\n",
    "from PyQt5.uic import loadUi\n",
    "from PyQt5.QtWidgets import (\n",
    "    QApplication,\n",
    "    QCheckBox,\n",
    "    QTabWidget,\n",
    "    QVBoxLayout,\n",
    "    QWidget,\n",
    "    QPushButton,\n",
    "    QHBoxLayout,\n",
    "    QGridLayout\n",
    ")\n",
    "from PyQt5.QtCore import Qt, QMimeData\n",
    "from PyQt5.QtChart import QChart, QChartView, QBarSet, \\\n",
    "    QPercentBarSeries, QBarCategoryAxis\n",
    "from PyQt5.QtGui import QIcon, QDrag\n",
    "class Window(QWidget):\n",
    "    def __init__(self):\n",
    "        super().__init__()\n",
    "        #window requirements\n",
    "        self.setGeometry(0,0,1600,800)\n",
    "        self.setWindowTitle(\"Main window\")\n",
    "        layout = QVBoxLayout()\n",
    "        self.setLayout(layout)\n",
    "        \n",
    "        layout.addStretch()"
   ]
  },
  {
   "cell_type": "code",
   "execution_count": 4,
   "metadata": {},
   "outputs": [
    {
     "ename": "AttributeError",
     "evalue": "module 'PyQt5.QtGui' has no attribute 'QDialog'",
     "output_type": "error",
     "traceback": [
      "\u001b[1;31m---------------------------------------------------------------------------\u001b[0m",
      "\u001b[1;31mAttributeError\u001b[0m                            Traceback (most recent call last)",
      "Input \u001b[1;32mIn [4]\u001b[0m, in \u001b[0;36m<module>\u001b[1;34m\u001b[0m\n\u001b[0;32m     18\u001b[0m         lay\u001b[38;5;241m.\u001b[39maddWidget(\u001b[38;5;28mself\u001b[39m\u001b[38;5;241m.\u001b[39mbutton, alignment\u001b[38;5;241m=\u001b[39mQtCore\u001b[38;5;241m.\u001b[39mQt\u001b[38;5;241m.\u001b[39mAlignRight)\n\u001b[0;32m     19\u001b[0m         lay\u001b[38;5;241m.\u001b[39msetContentsMargins(\u001b[38;5;241m0\u001b[39m, \u001b[38;5;241m0\u001b[39m, \u001b[38;5;241m0\u001b[39m, \u001b[38;5;241m0\u001b[39m)\n\u001b[1;32m---> 21\u001b[0m \u001b[38;5;28;01mclass\u001b[39;00m \u001b[38;5;21;01mDialog\u001b[39;00m(\u001b[43mQtGui\u001b[49m\u001b[38;5;241;43m.\u001b[39;49m\u001b[43mQDialog\u001b[49m):\n\u001b[0;32m     22\u001b[0m     \u001b[38;5;28;01mdef\u001b[39;00m \u001b[38;5;21m__init__\u001b[39m(\u001b[38;5;28mself\u001b[39m, parent\u001b[38;5;241m=\u001b[39m\u001b[38;5;28;01mNone\u001b[39;00m):\n\u001b[0;32m     23\u001b[0m         \u001b[38;5;28msuper\u001b[39m(Dialog, \u001b[38;5;28mself\u001b[39m)\u001b[38;5;241m.\u001b[39m\u001b[38;5;21m__init__\u001b[39m(parent\u001b[38;5;241m=\u001b[39mparent)\n",
      "\u001b[1;31mAttributeError\u001b[0m: module 'PyQt5.QtGui' has no attribute 'QDialog'"
     ]
    }
   ],
   "source": [
    "import sys\n",
    "from PyQt5 import QtCore, QtGui\n",
    "from PyQt5.QtWidgets import (\n",
    "    QApplication,\n",
    "    QCheckBox,\n",
    "    QTabWidget,\n",
    "    QVBoxLayout,\n",
    "    QWidget,\n",
    "    QPushButton,\n",
    "    QHBoxLayout,\n",
    "    QGridLayout\n",
    ")\n",
    "class CustomWidget(QtWidgets.QWidget):\n",
    "    def __init__(self, parent=None):\n",
    "        super(CustomWidget, self).__init__(parent)\n",
    "        self.button = QtGui.QPushButton(\"button\")\n",
    "        lay = QtGui.QHBoxLayout(self)\n",
    "        lay.addWidget(self.button, alignment=QtCore.Qt.AlignRight)\n",
    "        lay.setContentsMargins(0, 0, 0, 0)\n",
    "\n",
    "class Dialog(QtGui.QDialog):\n",
    "    def __init__(self, parent=None):\n",
    "        super(Dialog, self).__init__(parent=parent)\n",
    "        vLayout = QtGui.QVBoxLayout(self)\n",
    "        hLayout = QtGui.QHBoxLayout()\n",
    "        self.lineEdit = QtGui.QLineEdit()\n",
    "        hLayout.addWidget(self.lineEdit)\n",
    "        self.filter = QtGui.QPushButton(\"filter\", self)\n",
    "        hLayout.addWidget(self.filter)\n",
    "        self.list = QtGui.QListView(self)\n",
    "        vLayout.addLayout(hLayout)\n",
    "        vLayout.addWidget(self.list)\n",
    "        self.model = QtGui.QStandardItemModel(self.list)\n",
    "        codes = [\n",
    "            'windows',\n",
    "            'windows xp',\n",
    "            'windows7',\n",
    "            'hai',\n",
    "            'habit',\n",
    "            'hack',\n",
    "            'good'\n",
    "        ]\n",
    "        self.list.setModel(self.model)\n",
    "        for code in codes:\n",
    "            item = QtGui.QStandardItem(code)\n",
    "            self.model.appendRow(item)\n",
    "            self.list.setIndexWidget(item.index(), CustomWidget())\n",
    "\n",
    "if __name__ == \"__main__\":\n",
    "    app = QtGui.QApplication(sys.argv)\n",
    "    w = Dialog()\n",
    "    w.show()\n",
    "    sys.exit(app.exec_())"
   ]
  },
  {
   "cell_type": "code",
   "execution_count": 1,
   "metadata": {},
   "outputs": [
    {
     "ename": "SystemExit",
     "evalue": "0",
     "output_type": "error",
     "traceback": [
      "An exception has occurred, use %tb to see the full traceback.\n",
      "\u001b[1;31mSystemExit\u001b[0m\u001b[1;31m:\u001b[0m 0\n"
     ]
    },
    {
     "name": "stderr",
     "output_type": "stream",
     "text": [
      "C:\\Users\\Pooncharat Wongkom\\AppData\\Local\\Programs\\Python\\Python310\\lib\\site-packages\\IPython\\core\\interactiveshell.py:3259: UserWarning: To exit: use 'exit', 'quit', or Ctrl-D.\n",
      "  warn(\"To exit: use 'exit', 'quit', or Ctrl-D.\", stacklevel=1)\n"
     ]
    }
   ],
   "source": [
    "import sys\n",
    "from PyQt5.uic import loadUi\n",
    "from PyQt5.QtWidgets import (\n",
    "    QApplication,\n",
    "    QCheckBox,\n",
    "    QTabWidget,\n",
    "    QVBoxLayout,\n",
    "    QWidget,\n",
    "    QPushButton,\n",
    "    QHBoxLayout,\n",
    "    QGridLayout,\n",
    "    QListWidget,\n",
    "    QVBoxLayout,\n",
    "    QListWidgetItem\n",
    ")\n",
    "from PyQt5 import QtCore\n",
    "from PyQt5.QtCore import Qt, QMimeData\n",
    "from PyQt5.QtChart import QChart, QChartView, QBarSet, \\\n",
    "    QPercentBarSeries, QBarCategoryAxis\n",
    "from PyQt5.QtGui import QIcon, QDrag\n",
    "  \n",
    "class Ui_MainWindow(QWidget):\n",
    "    def __init__(self, parent = None):\n",
    "        super(Ui_MainWindow, self).__init__(parent)\n",
    "  \n",
    "  \n",
    "if __name__ == '__main__':\n",
    "    app = QApplication(sys.argv)\n",
    "    window = QWidget()\n",
    "    \n",
    "    window.setGeometry(0,0,1600,800)\n",
    "    window.setWindowTitle(\"Main window\")\n",
    "    listWidget = QListWidget()\n",
    "    listWidget.setGeometry(QtCore.QRect(0, 0, 50, 50))\n",
    "    QListWidgetItem(\"Poon\", listWidget)\n",
    "    QListWidgetItem(\"Fair\", listWidget)\n",
    "    QListWidgetItem(\"Cookie\", listWidget)\n",
    "    \n",
    "    #listWidgetItem = QListWidgetItem(\"Poon\")\n",
    "    #listWidget.addItem(listWidgetItem)\n",
    "    \n",
    "      \n",
    "    window_layout = QVBoxLayout(window)\n",
    "    window_layout.addWidget(listWidget)\n",
    "    window.setLayout(window_layout)\n",
    "  \n",
    "    window.show()\n",
    "  \n",
    "    sys.exit(app.exec_())"
   ]
  }
 ],
 "metadata": {
  "interpreter": {
   "hash": "f84231f2c9c44ed119e703d0f652a835878bf362b754835bda9855740dec1655"
  },
  "kernelspec": {
   "display_name": "Python 3.10.2 64-bit",
   "language": "python",
   "name": "python3"
  },
  "language_info": {
   "codemirror_mode": {
    "name": "ipython",
    "version": 3
   },
   "file_extension": ".py",
   "mimetype": "text/x-python",
   "name": "python",
   "nbconvert_exporter": "python",
   "pygments_lexer": "ipython3",
   "version": "3.10.2"
  },
  "orig_nbformat": 4
 },
 "nbformat": 4,
 "nbformat_minor": 2
}
