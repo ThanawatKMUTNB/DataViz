{
 "cells": [
  {
   "cell_type": "code",
   "execution_count": 4,
   "metadata": {},
   "outputs": [
    {
     "ename": "AttributeError",
     "evalue": "'MainWindow' object has no attribute 'show'",
     "output_type": "error",
     "traceback": [
      "\u001b[1;31m---------------------------------------------------------------------------\u001b[0m",
      "\u001b[1;31mAttributeError\u001b[0m                            Traceback (most recent call last)",
      "Input \u001b[1;32mIn [4]\u001b[0m, in \u001b[0;36m<module>\u001b[1;34m\u001b[0m\n\u001b[0;32m     34\u001b[0m         \u001b[38;5;28mprint\u001b[39m(\u001b[38;5;124m\"\u001b[39m\u001b[38;5;124mButton 2 clicked\u001b[39m\u001b[38;5;124m\"\u001b[39m)  \n\u001b[0;32m     35\u001b[0m window \u001b[38;5;241m=\u001b[39m MainWindow()\n\u001b[1;32m---> 36\u001b[0m \u001b[43mwindow\u001b[49m\u001b[38;5;241;43m.\u001b[39;49m\u001b[43mshow\u001b[49m()\n",
      "\u001b[1;31mAttributeError\u001b[0m: 'MainWindow' object has no attribute 'show'"
     ]
    }
   ],
   "source": [
    "from PyQt5.QtWidgets import QApplication, QHBoxLayout, QWidget, QPushButton\n",
    "from PyQt5.QtCore import Qt, QMimeData\n",
    "from PyQt5.QtGui import QDrag\n",
    "import sys\n",
    "from PyQt5.QtWidgets import QApplication, QWidget, QPushButton\n",
    "from PyQt5.QtGui import QIcon\n",
    "from PyQt5.QtCore import pyqtSlot\n",
    "class MainWindow() :\n",
    "    \n",
    "    def createButton(button1_clicked,button2_clicked) :\n",
    "        app = QApplication(sys.argv)\n",
    "        widget = QWidget()\n",
    "\n",
    "        \n",
    "\n",
    "        button2 = QPushButton(widget)\n",
    "        button2.setText(\"Button2\")\n",
    "        button2.move(64,64)\n",
    "        button2.clicked.connect(button2_clicked)\n",
    "\n",
    "        widget.setGeometry(50,50,320,200)\n",
    "        widget.setWindowTitle(\"PyQt5 Button Click Example\")\n",
    "        widget.show()\n",
    "        sys.exit(app.exec_())\n",
    "\n",
    "\n",
    "    def button1_clicked():\n",
    "        print(\"Button 1 clicked\")\n",
    "\n",
    "    def button2_clicked():\n",
    "        print(\"Button 2 clicked\")  \n",
    "window = MainWindow()\n",
    "window.show()"
   ]
  },
  {
   "cell_type": "code",
   "execution_count": 1,
   "metadata": {},
   "outputs": [
    {
     "data": {
      "text/plain": [
       "0"
      ]
     },
     "execution_count": 1,
     "metadata": {},
     "output_type": "execute_result"
    }
   ],
   "source": [
    "import sys\n",
    "\n",
    "from PyQt5.QtCore import QSize, Qt\n",
    "from PyQt5.QtWidgets import QApplication, QMainWindow, QPushButton\n",
    "\n",
    "\n",
    "# Subclass QMainWindow to customize your application's main window\n",
    "class MainWindow(QMainWindow):\n",
    "    def __init__(self):\n",
    "        super().__init__()\n",
    "\n",
    "        self.setWindowTitle(\"My App\")\n",
    "\n",
    "        button = QPushButton(\"Press Me!\")\n",
    "\n",
    "        self.setFixedSize(QSize(400, 300))\n",
    "\n",
    "        # Set the central widget of the Window.\n",
    "        self.setCentralWidget(button)\n",
    "\n",
    "\n",
    "app = QApplication(sys.argv)\n",
    "\n",
    "window = MainWindow()\n",
    "window.show()\n",
    "\n",
    "app.exec()"
   ]
  },
  {
   "cell_type": "code",
   "execution_count": 1,
   "metadata": {},
   "outputs": [],
   "source": [
    "import sys\n",
    "from PyQt5.QtWidgets import QApplication, QHBoxLayout, QWidget, QPushButton\n",
    "from PyQt5.QtCore import Qt, QMimeData, pyqtSlot\n",
    "from PyQt5.QtGui import QDrag, QIcon\n",
    "\n",
    "\n",
    "def showButton() :\n",
    "    print(\"Hello\")\n",
    "def buttonGraphFeature() :\n",
    "    app = QApplication(sys.argv)\n",
    "    widget = QWidget()\n",
    "    button1 = QPushButton(widget)\n",
    "    button1.setText(\"Button1\")\n",
    "    button1.move(64,32)\n",
    "    button1.clicked.connect(showButton)\n",
    "window = QWidget()\n",
    "window.show()\n",
    "buttonGraphFeature(app).exec()"
   ]
  },
  {
   "cell_type": "code",
   "execution_count": null,
   "metadata": {},
   "outputs": [],
   "source": [
    "from PyQt4.QtGui import *\n",
    "from PyQt4.QtCore import *\n",
    "\n",
    "import sys\n",
    "\n",
    "class myListWidget(QListWidget):\n",
    "\n",
    "   def Clicked(self,item):\n",
    "      QMessageBox.information(self, \"ListWidget\", \"You clicked: \"+item.text())\n",
    "\t\t\n",
    "def main():\n",
    "   app = QApplication(sys.argv)\n",
    "   listWidget = myListWidget()\n",
    "\t\n",
    "   #Resize width and height\n",
    "   listWidget.resize(300,120)\n",
    "\t\n",
    "   listWidget.addItem(\"Item 1\"); \n",
    "   listWidget.addItem(\"Item 2\");\n",
    "   listWidget.addItem(\"Item 3\");\n",
    "   listWidget.addItem(\"Item 4\");\n",
    "\t\n",
    "   listWidget.setWindowTitle('PyQT QListwidget Demo')\n",
    "   listWidget.itemClicked.connect(listWidget.Clicked)\n",
    "   \n",
    "   listWidget.show()\n",
    "   sys.exit(app.exec_())\n",
    "\t\n",
    "if __name__ == '__main__':\n",
    "   main()"
   ]
  },
  {
   "cell_type": "code",
   "execution_count": 2,
   "metadata": {},
   "outputs": [
    {
     "ename": "FileNotFoundError",
     "evalue": "[Errno 2] No such file or directory: 'tax_calc.ui'",
     "output_type": "error",
     "traceback": [
      "\u001b[1;31m---------------------------------------------------------------------------\u001b[0m",
      "\u001b[1;31mFileNotFoundError\u001b[0m                         Traceback (most recent call last)",
      "Input \u001b[1;32mIn [2]\u001b[0m, in \u001b[0;36m<module>\u001b[1;34m\u001b[0m\n\u001b[0;32m      2\u001b[0m \u001b[38;5;28;01mfrom\u001b[39;00m \u001b[38;5;21;01mPyQt5\u001b[39;00m \u001b[38;5;28;01mimport\u001b[39;00m QtWidgets, uic\n\u001b[0;32m      4\u001b[0m qtcreator_file  \u001b[38;5;241m=\u001b[39m \u001b[38;5;124m\"\u001b[39m\u001b[38;5;124mtax_calc.ui\u001b[39m\u001b[38;5;124m\"\u001b[39m \u001b[38;5;66;03m# Enter file here.\u001b[39;00m\n\u001b[1;32m----> 5\u001b[0m Ui_MainWindow, QtBaseClass \u001b[38;5;241m=\u001b[39m \u001b[43muic\u001b[49m\u001b[38;5;241;43m.\u001b[39;49m\u001b[43mloadUiType\u001b[49m\u001b[43m(\u001b[49m\u001b[43mqtcreator_file\u001b[49m\u001b[43m)\u001b[49m\n\u001b[0;32m      8\u001b[0m \u001b[38;5;28;01mclass\u001b[39;00m \u001b[38;5;21;01mMyApp\u001b[39;00m(QtWidgets\u001b[38;5;241m.\u001b[39mQMainWindow, Ui_MainWindow):\n\u001b[0;32m      9\u001b[0m     \u001b[38;5;28;01mdef\u001b[39;00m \u001b[38;5;21m__init__\u001b[39m(\u001b[38;5;28mself\u001b[39m):\n",
      "File \u001b[1;32m~\\AppData\\Local\\Programs\\Python\\Python310\\lib\\site-packages\\PyQt5\\uic\\__init__.py:200\u001b[0m, in \u001b[0;36mloadUiType\u001b[1;34m(uifile, from_imports, resource_suffix, import_from)\u001b[0m\n\u001b[0;32m    197\u001b[0m     \u001b[38;5;28;01mfrom\u001b[39;00m \u001b[38;5;21;01m.\u001b[39;00m\u001b[38;5;21;01mport_v2\u001b[39;00m\u001b[38;5;21;01m.\u001b[39;00m\u001b[38;5;21;01mstring_io\u001b[39;00m \u001b[38;5;28;01mimport\u001b[39;00m StringIO\n\u001b[0;32m    199\u001b[0m code_string \u001b[38;5;241m=\u001b[39m StringIO()\n\u001b[1;32m--> 200\u001b[0m winfo \u001b[38;5;241m=\u001b[39m \u001b[43mcompiler\u001b[49m\u001b[38;5;241;43m.\u001b[39;49m\u001b[43mUICompiler\u001b[49m\u001b[43m(\u001b[49m\u001b[43m)\u001b[49m\u001b[38;5;241;43m.\u001b[39;49m\u001b[43mcompileUi\u001b[49m\u001b[43m(\u001b[49m\u001b[43muifile\u001b[49m\u001b[43m,\u001b[49m\u001b[43m \u001b[49m\u001b[43mcode_string\u001b[49m\u001b[43m,\u001b[49m\u001b[43m \u001b[49m\u001b[43mfrom_imports\u001b[49m\u001b[43m,\u001b[49m\n\u001b[0;32m    201\u001b[0m \u001b[43m        \u001b[49m\u001b[43mresource_suffix\u001b[49m\u001b[43m,\u001b[49m\u001b[43m \u001b[49m\u001b[43mimport_from\u001b[49m\u001b[43m)\u001b[49m\n\u001b[0;32m    203\u001b[0m ui_globals \u001b[38;5;241m=\u001b[39m {}\n\u001b[0;32m    204\u001b[0m exec(code_string\u001b[38;5;241m.\u001b[39mgetvalue(), ui_globals)\n",
      "File \u001b[1;32m~\\AppData\\Local\\Programs\\Python\\Python310\\lib\\site-packages\\PyQt5\\uic\\Compiler\\compiler.py:111\u001b[0m, in \u001b[0;36mUICompiler.compileUi\u001b[1;34m(self, input_stream, output_stream, from_imports, resource_suffix, import_from)\u001b[0m\n\u001b[0;32m    109\u001b[0m \u001b[38;5;28;01mdef\u001b[39;00m \u001b[38;5;21mcompileUi\u001b[39m(\u001b[38;5;28mself\u001b[39m, input_stream, output_stream, from_imports, resource_suffix, import_from):\n\u001b[0;32m    110\u001b[0m     createCodeIndenter(output_stream)\n\u001b[1;32m--> 111\u001b[0m     w \u001b[38;5;241m=\u001b[39m \u001b[38;5;28;43mself\u001b[39;49m\u001b[38;5;241;43m.\u001b[39;49m\u001b[43mparse\u001b[49m\u001b[43m(\u001b[49m\u001b[43minput_stream\u001b[49m\u001b[43m,\u001b[49m\u001b[43m \u001b[49m\u001b[43mresource_suffix\u001b[49m\u001b[43m)\u001b[49m\n\u001b[0;32m    113\u001b[0m     \u001b[38;5;28mself\u001b[39m\u001b[38;5;241m.\u001b[39mfactory\u001b[38;5;241m.\u001b[39m_cpolicy\u001b[38;5;241m.\u001b[39m_writeOutImports()\n\u001b[0;32m    115\u001b[0m     \u001b[38;5;28;01mfor\u001b[39;00m res \u001b[38;5;129;01min\u001b[39;00m \u001b[38;5;28mself\u001b[39m\u001b[38;5;241m.\u001b[39m_resources:\n",
      "File \u001b[1;32m~\\AppData\\Local\\Programs\\Python\\Python310\\lib\\site-packages\\PyQt5\\uic\\uiparser.py:1020\u001b[0m, in \u001b[0;36mUIParser.parse\u001b[1;34m(self, filename, resource_suffix)\u001b[0m\n\u001b[0;32m   1006\u001b[0m \u001b[38;5;66;03m# The order in which the different branches are handled is important.\u001b[39;00m\n\u001b[0;32m   1007\u001b[0m \u001b[38;5;66;03m# The widget tree handler relies on all custom widgets being known, and\u001b[39;00m\n\u001b[0;32m   1008\u001b[0m \u001b[38;5;66;03m# in order to create the connections, all widgets have to be populated.\u001b[39;00m\n\u001b[0;32m   1009\u001b[0m branchHandlers \u001b[38;5;241m=\u001b[39m (\n\u001b[0;32m   1010\u001b[0m     (\u001b[38;5;124m\"\u001b[39m\u001b[38;5;124mlayoutdefault\u001b[39m\u001b[38;5;124m\"\u001b[39m, \u001b[38;5;28mself\u001b[39m\u001b[38;5;241m.\u001b[39mreadDefaults),\n\u001b[0;32m   1011\u001b[0m     (\u001b[38;5;124m\"\u001b[39m\u001b[38;5;124mclass\u001b[39m\u001b[38;5;124m\"\u001b[39m,         \u001b[38;5;28mself\u001b[39m\u001b[38;5;241m.\u001b[39mclassname),\n\u001b[1;32m   (...)\u001b[0m\n\u001b[0;32m   1017\u001b[0m     (\u001b[38;5;124m\"\u001b[39m\u001b[38;5;124mresources\u001b[39m\u001b[38;5;124m\"\u001b[39m,     \u001b[38;5;28mself\u001b[39m\u001b[38;5;241m.\u001b[39mreadResources),\n\u001b[0;32m   1018\u001b[0m )\n\u001b[1;32m-> 1020\u001b[0m document \u001b[38;5;241m=\u001b[39m \u001b[43mparse\u001b[49m\u001b[43m(\u001b[49m\u001b[43mfilename\u001b[49m\u001b[43m)\u001b[49m\n\u001b[0;32m   1021\u001b[0m root \u001b[38;5;241m=\u001b[39m document\u001b[38;5;241m.\u001b[39mgetroot()\n\u001b[0;32m   1023\u001b[0m \u001b[38;5;28;01mif\u001b[39;00m root\u001b[38;5;241m.\u001b[39mtag \u001b[38;5;241m!=\u001b[39m \u001b[38;5;124m'\u001b[39m\u001b[38;5;124mui\u001b[39m\u001b[38;5;124m'\u001b[39m:\n",
      "File \u001b[1;32m~\\AppData\\Local\\Programs\\Python\\Python310\\lib\\xml\\etree\\ElementTree.py:1229\u001b[0m, in \u001b[0;36mparse\u001b[1;34m(source, parser)\u001b[0m\n\u001b[0;32m   1220\u001b[0m \u001b[38;5;124;03m\"\"\"Parse XML document into element tree.\u001b[39;00m\n\u001b[0;32m   1221\u001b[0m \n\u001b[0;32m   1222\u001b[0m \u001b[38;5;124;03m*source* is a filename or file object containing XML data,\u001b[39;00m\n\u001b[1;32m   (...)\u001b[0m\n\u001b[0;32m   1226\u001b[0m \n\u001b[0;32m   1227\u001b[0m \u001b[38;5;124;03m\"\"\"\u001b[39;00m\n\u001b[0;32m   1228\u001b[0m tree \u001b[38;5;241m=\u001b[39m ElementTree()\n\u001b[1;32m-> 1229\u001b[0m \u001b[43mtree\u001b[49m\u001b[38;5;241;43m.\u001b[39;49m\u001b[43mparse\u001b[49m\u001b[43m(\u001b[49m\u001b[43msource\u001b[49m\u001b[43m,\u001b[49m\u001b[43m \u001b[49m\u001b[43mparser\u001b[49m\u001b[43m)\u001b[49m\n\u001b[0;32m   1230\u001b[0m \u001b[38;5;28;01mreturn\u001b[39;00m tree\n",
      "File \u001b[1;32m~\\AppData\\Local\\Programs\\Python\\Python310\\lib\\xml\\etree\\ElementTree.py:569\u001b[0m, in \u001b[0;36mElementTree.parse\u001b[1;34m(self, source, parser)\u001b[0m\n\u001b[0;32m    567\u001b[0m close_source \u001b[38;5;241m=\u001b[39m \u001b[38;5;28;01mFalse\u001b[39;00m\n\u001b[0;32m    568\u001b[0m \u001b[38;5;28;01mif\u001b[39;00m \u001b[38;5;129;01mnot\u001b[39;00m \u001b[38;5;28mhasattr\u001b[39m(source, \u001b[38;5;124m\"\u001b[39m\u001b[38;5;124mread\u001b[39m\u001b[38;5;124m\"\u001b[39m):\n\u001b[1;32m--> 569\u001b[0m     source \u001b[38;5;241m=\u001b[39m \u001b[38;5;28;43mopen\u001b[39;49m\u001b[43m(\u001b[49m\u001b[43msource\u001b[49m\u001b[43m,\u001b[49m\u001b[43m \u001b[49m\u001b[38;5;124;43m\"\u001b[39;49m\u001b[38;5;124;43mrb\u001b[39;49m\u001b[38;5;124;43m\"\u001b[39;49m\u001b[43m)\u001b[49m\n\u001b[0;32m    570\u001b[0m     close_source \u001b[38;5;241m=\u001b[39m \u001b[38;5;28;01mTrue\u001b[39;00m\n\u001b[0;32m    571\u001b[0m \u001b[38;5;28;01mtry\u001b[39;00m:\n",
      "\u001b[1;31mFileNotFoundError\u001b[0m: [Errno 2] No such file or directory: 'tax_calc.ui'"
     ]
    }
   ],
   "source": [
    "import sys\n",
    "from PyQt5 import QtWidgets, uic\n",
    "\n",
    "qtcreator_file  = \"tax_calc.ui\" # Enter file here.\n",
    "Ui_MainWindow, QtBaseClass = uic.loadUiType(qtcreator_file)\n",
    "\n",
    "\n",
    "class MyApp(QtWidgets.QMainWindow, Ui_MainWindow):\n",
    "    def __init__(self):\n",
    "        QtWidgets.QMainWindow.__init__(self)\n",
    "        Ui_MainWindow.__init__(self)\n",
    "        self.setupUi(self)\n",
    "\n",
    "        self.calc_tax_button.clicked.connect(self.CalculateTax)\n",
    "\n",
    "    def CalculateTax(self):\n",
    "            price = int(self.price_box.toPlainText())\n",
    "            tax = (self.tax_rate.value())\n",
    "            total_price = price  + ((tax / 100) * price)\n",
    "            total_price_string = \"The total price with tax is: \" + str(total_price)\n",
    "            self.results_window.setText(total_price_string)\n",
    "if __name__ == \"__main__\":\n",
    "    app = QtWidgets.QApplication(sys.argv)\n",
    "    window = MyApp()\n",
    "    window.show()\n",
    "    sys.exit(app.exec_())"
   ]
  }
 ],
 "metadata": {
  "interpreter": {
   "hash": "f84231f2c9c44ed119e703d0f652a835878bf362b754835bda9855740dec1655"
  },
  "kernelspec": {
   "display_name": "Python 3.10.2 64-bit",
   "language": "python",
   "name": "python3"
  },
  "language_info": {
   "codemirror_mode": {
    "name": "ipython",
    "version": 3
   },
   "file_extension": ".py",
   "mimetype": "text/x-python",
   "name": "python",
   "nbconvert_exporter": "python",
   "pygments_lexer": "ipython3",
   "version": "3.10.2"
  },
  "orig_nbformat": 4
 },
 "nbformat": 4,
 "nbformat_minor": 2
}
