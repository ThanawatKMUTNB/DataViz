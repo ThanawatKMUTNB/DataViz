{
 "cells": [
  {
   "cell_type": "code",
   "execution_count": 1,
   "metadata": {},
   "outputs": [
    {
     "name": "stdout",
     "output_type": "stream",
     "text": [
      "eiei by fair\n"
     ]
    }
   ],
   "source": [
    "print('eiei by fair')"
   ]
  },
  {
   "cell_type": "code",
   "execution_count": 8,
   "metadata": {},
   "outputs": [],
   "source": [
    "import csv\n",
    "file = open('SS_20lines.csv')\n",
    "csvreader = csv.reader(file)\n",
    "header = []\n",
    "data = {}\n",
    "header = next(csvreader)\n",
    "for i in range(len(header)):\n",
    "    data[header[i]] = []\n",
    "\n",
    "for row in csvreader:\n",
    "    if \"\" in row:\n",
    "        break\n",
    "    for i in range(len(row)):\n",
    "        data[header[i]].append(row[i])\n",
    "    #print(row[0])\n",
    "   \n",
    "#print(header)\n",
    "#print(data)\n",
    "file.close()\n",
    "#type(csvreader)"
   ]
  },
  {
   "cell_type": "code",
   "execution_count": 25,
   "metadata": {},
   "outputs": [
    {
     "name": "stdout",
     "output_type": "stream",
     "text": [
      "    Row ID        Order ID  Order Date   Ship Date       Ship Mode  \\\n",
      "0        1  CA-2019-152156   8/11/2019  11/11/2019    Second Class   \n",
      "1        2  CA-2019-152156   8/11/2019  11/11/2019    Second Class   \n",
      "2        3  CA-2019-138688   12/6/2019   16/6/2019    Second Class   \n",
      "3        4  US-2018-108966  11/10/2018  18/10/2018  Standard Class   \n",
      "4        5  US-2018-108966  11/10/2018  18/10/2018  Standard Class   \n",
      "..     ...             ...         ...         ...             ...   \n",
      "15      16  US-2018-118983  22/11/2018  26/11/2018  Standard Class   \n",
      "16      17  CA-2017-105893  11/11/2017  18/11/2017  Standard Class   \n",
      "17      18  CA-2017-167164   13/5/2017   15/5/2017    Second Class   \n",
      "18      19  CA-2017-143336   27/8/2017    1/9/2017    Second Class   \n",
      "19      20  CA-2017-143336   27/8/2017    1/9/2017    Second Class   \n",
      "\n",
      "   Customer ID       Customer Name      Segment Country/Region  \\\n",
      "0     CG-12520         Claire Gute     Consumer  United States   \n",
      "1     CG-12520         Claire Gute     Consumer  United States   \n",
      "2     DV-13045     Darrin Van Huff    Corporate  United States   \n",
      "3     SO-20335      Sean O'Donnell     Consumer  United States   \n",
      "4     SO-20335      Sean O'Donnell     Consumer  United States   \n",
      "..         ...                 ...          ...            ...   \n",
      "15    HP-14815       Harold Pawlan  Home Office  United States   \n",
      "16    PK-19075           Pete Kriz     Consumer  United States   \n",
      "17    AG-10270     Alejandro Grove     Consumer  United States   \n",
      "18    ZD-21925  Zuschuss Donatelli     Consumer  United States   \n",
      "19    ZD-21925  Zuschuss Donatelli     Consumer  United States   \n",
      "\n",
      "               City       State  Postal Code   Region       Product ID  \\\n",
      "0         Henderson    Kentucky        42420    South  FUR-BO-10001798   \n",
      "1         Henderson    Kentucky        42420    South  FUR-CH-10000454   \n",
      "2       Los Angeles  California        90036     West  OFF-LA-10000240   \n",
      "3   Fort Lauderdale     Florida        33311    South  FUR-TA-10000577   \n",
      "4   Fort Lauderdale     Florida        33311    South  OFF-ST-10000760   \n",
      "..              ...         ...          ...      ...              ...   \n",
      "15       Fort Worth       Texas        76106  Central  OFF-BI-10000756   \n",
      "16          Madison   Wisconsin        53711  Central  OFF-ST-10004186   \n",
      "17      West Jordan        Utah        84084     West  OFF-ST-10000107   \n",
      "18    San Francisco  California        94109     West  OFF-AR-10003056   \n",
      "19    San Francisco  California        94109     West  TEC-PH-10001949   \n",
      "\n",
      "           Category Sub-Category  \\\n",
      "0         Furniture    Bookcases   \n",
      "1         Furniture       Chairs   \n",
      "2   Office Supplies       Labels   \n",
      "3         Furniture       Tables   \n",
      "4   Office Supplies      Storage   \n",
      "..              ...          ...   \n",
      "15  Office Supplies      Binders   \n",
      "16  Office Supplies      Storage   \n",
      "17  Office Supplies      Storage   \n",
      "18  Office Supplies          Art   \n",
      "19       Technology       Phones   \n",
      "\n",
      "                                         Product Name     Sales  Quantity  \\\n",
      "0                   Bush Somerset Collection Bookcase  261.9600         2   \n",
      "1   Hon Deluxe Fabric Upholstered Stacking Chairs,...  731.9400         3   \n",
      "2   Self-Adhesive Address Labels for Typewriters b...   14.6200         2   \n",
      "3       Bretford CR4500 Series Slim Rectangular Table  957.5775         5   \n",
      "4                      Eldon Fold 'N Roll Cart System   22.3680         2   \n",
      "..                                                ...       ...       ...   \n",
      "15   Storex DuraTech Recycled Plastic Frosted Binders    2.5440         3   \n",
      "16  Stur-D-Stor Shelving, Vertical 5-Shelf: 72\"H x...  665.8800         6   \n",
      "17                         Fellowes Super Stor/Drawer   55.5000         2   \n",
      "18                                         Newell 341    8.5600         2   \n",
      "19                            Cisco SPA 501G IP Phone  213.4800         3   \n",
      "\n",
      "    Discount    Profit  \n",
      "0       0.00   41.9136  \n",
      "1       0.00  219.5820  \n",
      "2       0.00    6.8714  \n",
      "3       0.45 -383.0310  \n",
      "4       0.20    2.5164  \n",
      "..       ...       ...  \n",
      "15      0.80   -3.8160  \n",
      "16      0.00   13.3176  \n",
      "17      0.00    9.9900  \n",
      "18      0.00    2.4824  \n",
      "19      0.20   16.0110  \n",
      "\n",
      "[20 rows x 21 columns]\n"
     ]
    }
   ],
   "source": [
    "import csv\n",
    "import pandas as pd\n",
    "\n",
    "#pd.options.display.max_rows = 10\n",
    "df = pd.read_csv('SS_20lines.csv', encoding='windows-1252')\n",
    "print(df)\n"
   ]
  },
  {
   "cell_type": "code",
   "execution_count": 26,
   "metadata": {},
   "outputs": [
    {
     "name": "stdout",
     "output_type": "stream",
     "text": [
      "<class 'pandas.core.frame.DataFrame'>\n",
      "RangeIndex: 20 entries, 0 to 19\n",
      "Data columns (total 21 columns):\n",
      " #   Column          Non-Null Count  Dtype  \n",
      "---  ------          --------------  -----  \n",
      " 0   Row ID          20 non-null     int64  \n",
      " 1   Order ID        20 non-null     object \n",
      " 2   Order Date      20 non-null     object \n",
      " 3   Ship Date       20 non-null     object \n",
      " 4   Ship Mode       20 non-null     object \n",
      " 5   Customer ID     20 non-null     object \n",
      " 6   Customer Name   20 non-null     object \n",
      " 7   Segment         20 non-null     object \n",
      " 8   Country/Region  20 non-null     object \n",
      " 9   City            20 non-null     object \n",
      " 10  State           20 non-null     object \n",
      " 11  Postal Code     20 non-null     int64  \n",
      " 12  Region          20 non-null     object \n",
      " 13  Product ID      20 non-null     object \n",
      " 14  Category        20 non-null     object \n",
      " 15  Sub-Category    20 non-null     object \n",
      " 16  Product Name    20 non-null     object \n",
      " 17  Sales           20 non-null     float64\n",
      " 18  Quantity        20 non-null     int64  \n",
      " 19  Discount        20 non-null     float64\n",
      " 20  Profit          20 non-null     float64\n",
      "dtypes: float64(3), int64(3), object(15)\n",
      "memory usage: 3.4+ KB\n"
     ]
    }
   ],
   "source": [
    "df.info()"
   ]
  },
  {
   "cell_type": "code",
   "execution_count": 27,
   "metadata": {},
   "outputs": [],
   "source": [
    "pd.set_option('display.max_columns',21)"
   ]
  },
  {
   "cell_type": "code",
   "execution_count": 35,
   "metadata": {},
   "outputs": [
    {
     "data": {
      "text/html": [
       "<div>\n",
       "<style scoped>\n",
       "    .dataframe tbody tr th:only-of-type {\n",
       "        vertical-align: middle;\n",
       "    }\n",
       "\n",
       "    .dataframe tbody tr th {\n",
       "        vertical-align: top;\n",
       "    }\n",
       "\n",
       "    .dataframe thead th {\n",
       "        text-align: right;\n",
       "    }\n",
       "</style>\n",
       "<table border=\"1\" class=\"dataframe\">\n",
       "  <thead>\n",
       "    <tr style=\"text-align: right;\">\n",
       "      <th></th>\n",
       "      <th>Customer ID</th>\n",
       "      <th>Customer Name</th>\n",
       "    </tr>\n",
       "  </thead>\n",
       "  <tbody>\n",
       "    <tr>\n",
       "      <th>0</th>\n",
       "      <td>CG-12520</td>\n",
       "      <td>Claire Gute</td>\n",
       "    </tr>\n",
       "    <tr>\n",
       "      <th>1</th>\n",
       "      <td>CG-12520</td>\n",
       "      <td>Claire Gute</td>\n",
       "    </tr>\n",
       "    <tr>\n",
       "      <th>2</th>\n",
       "      <td>DV-13045</td>\n",
       "      <td>Darrin Van Huff</td>\n",
       "    </tr>\n",
       "    <tr>\n",
       "      <th>3</th>\n",
       "      <td>SO-20335</td>\n",
       "      <td>Sean O'Donnell</td>\n",
       "    </tr>\n",
       "    <tr>\n",
       "      <th>4</th>\n",
       "      <td>SO-20335</td>\n",
       "      <td>Sean O'Donnell</td>\n",
       "    </tr>\n",
       "    <tr>\n",
       "      <th>...</th>\n",
       "      <td>...</td>\n",
       "      <td>...</td>\n",
       "    </tr>\n",
       "    <tr>\n",
       "      <th>15</th>\n",
       "      <td>HP-14815</td>\n",
       "      <td>Harold Pawlan</td>\n",
       "    </tr>\n",
       "    <tr>\n",
       "      <th>16</th>\n",
       "      <td>PK-19075</td>\n",
       "      <td>Pete Kriz</td>\n",
       "    </tr>\n",
       "    <tr>\n",
       "      <th>17</th>\n",
       "      <td>AG-10270</td>\n",
       "      <td>Alejandro Grove</td>\n",
       "    </tr>\n",
       "    <tr>\n",
       "      <th>18</th>\n",
       "      <td>ZD-21925</td>\n",
       "      <td>Zuschuss Donatelli</td>\n",
       "    </tr>\n",
       "    <tr>\n",
       "      <th>19</th>\n",
       "      <td>ZD-21925</td>\n",
       "      <td>Zuschuss Donatelli</td>\n",
       "    </tr>\n",
       "  </tbody>\n",
       "</table>\n",
       "<p>20 rows × 2 columns</p>\n",
       "</div>"
      ],
      "text/plain": [
       "   Customer ID       Customer Name\n",
       "0     CG-12520         Claire Gute\n",
       "1     CG-12520         Claire Gute\n",
       "2     DV-13045     Darrin Van Huff\n",
       "3     SO-20335      Sean O'Donnell\n",
       "4     SO-20335      Sean O'Donnell\n",
       "..         ...                 ...\n",
       "15    HP-14815       Harold Pawlan\n",
       "16    PK-19075           Pete Kriz\n",
       "17    AG-10270     Alejandro Grove\n",
       "18    ZD-21925  Zuschuss Donatelli\n",
       "19    ZD-21925  Zuschuss Donatelli\n",
       "\n",
       "[20 rows x 2 columns]"
      ]
     },
     "execution_count": 35,
     "metadata": {},
     "output_type": "execute_result"
    }
   ],
   "source": [
    "df[['Customer ID','Customer Name']]"
   ]
  },
  {
   "cell_type": "code",
   "execution_count": 41,
   "metadata": {},
   "outputs": [
    {
     "data": {
      "text/plain": [
       "Index(['Row ID', 'Order ID', 'Order Date', 'Ship Date', 'Ship Mode',\n",
       "       'Customer ID', 'Customer Name', 'Segment', 'Country/Region', 'City',\n",
       "       'State', 'Postal Code', 'Region', 'Product ID', 'Category',\n",
       "       'Sub-Category', 'Product Name', 'Sales', 'Quantity', 'Discount',\n",
       "       'Profit'],\n",
       "      dtype='object')"
      ]
     },
     "execution_count": 41,
     "metadata": {},
     "output_type": "execute_result"
    }
   ],
   "source": [
    "df.columns"
   ]
  },
  {
   "cell_type": "code",
   "execution_count": 44,
   "metadata": {},
   "outputs": [
    {
     "data": {
      "text/html": [
       "<div>\n",
       "<style scoped>\n",
       "    .dataframe tbody tr th:only-of-type {\n",
       "        vertical-align: middle;\n",
       "    }\n",
       "\n",
       "    .dataframe tbody tr th {\n",
       "        vertical-align: top;\n",
       "    }\n",
       "\n",
       "    .dataframe thead th {\n",
       "        text-align: right;\n",
       "    }\n",
       "</style>\n",
       "<table border=\"1\" class=\"dataframe\">\n",
       "  <thead>\n",
       "    <tr style=\"text-align: right;\">\n",
       "      <th></th>\n",
       "      <th>Row ID</th>\n",
       "      <th>Order ID</th>\n",
       "      <th>Order Date</th>\n",
       "      <th>Ship Date</th>\n",
       "      <th>Ship Mode</th>\n",
       "      <th>Customer ID</th>\n",
       "      <th>Customer Name</th>\n",
       "      <th>Segment</th>\n",
       "      <th>Country/Region</th>\n",
       "      <th>City</th>\n",
       "      <th>State</th>\n",
       "      <th>Postal Code</th>\n",
       "      <th>Region</th>\n",
       "      <th>Product ID</th>\n",
       "      <th>Category</th>\n",
       "      <th>Sub-Category</th>\n",
       "      <th>Product Name</th>\n",
       "      <th>Sales</th>\n",
       "      <th>Quantity</th>\n",
       "      <th>Discount</th>\n",
       "      <th>Profit</th>\n",
       "    </tr>\n",
       "  </thead>\n",
       "  <tbody>\n",
       "    <tr>\n",
       "      <th>0</th>\n",
       "      <td>1</td>\n",
       "      <td>CA-2019-152156</td>\n",
       "      <td>8/11/2019</td>\n",
       "      <td>11/11/2019</td>\n",
       "      <td>Second Class</td>\n",
       "      <td>CG-12520</td>\n",
       "      <td>Claire Gute</td>\n",
       "      <td>Consumer</td>\n",
       "      <td>United States</td>\n",
       "      <td>Henderson</td>\n",
       "      <td>Kentucky</td>\n",
       "      <td>42420</td>\n",
       "      <td>South</td>\n",
       "      <td>FUR-BO-10001798</td>\n",
       "      <td>Furniture</td>\n",
       "      <td>Bookcases</td>\n",
       "      <td>Bush Somerset Collection Bookcase</td>\n",
       "      <td>261.96</td>\n",
       "      <td>2</td>\n",
       "      <td>0.0</td>\n",
       "      <td>41.9136</td>\n",
       "    </tr>\n",
       "    <tr>\n",
       "      <th>1</th>\n",
       "      <td>2</td>\n",
       "      <td>CA-2019-152156</td>\n",
       "      <td>8/11/2019</td>\n",
       "      <td>11/11/2019</td>\n",
       "      <td>Second Class</td>\n",
       "      <td>CG-12520</td>\n",
       "      <td>Claire Gute</td>\n",
       "      <td>Consumer</td>\n",
       "      <td>United States</td>\n",
       "      <td>Henderson</td>\n",
       "      <td>Kentucky</td>\n",
       "      <td>42420</td>\n",
       "      <td>South</td>\n",
       "      <td>FUR-CH-10000454</td>\n",
       "      <td>Furniture</td>\n",
       "      <td>Chairs</td>\n",
       "      <td>Hon Deluxe Fabric Upholstered Stacking Chairs,...</td>\n",
       "      <td>731.94</td>\n",
       "      <td>3</td>\n",
       "      <td>0.0</td>\n",
       "      <td>219.5820</td>\n",
       "    </tr>\n",
       "  </tbody>\n",
       "</table>\n",
       "</div>"
      ],
      "text/plain": [
       "   Row ID        Order ID Order Date   Ship Date     Ship Mode Customer ID  \\\n",
       "0       1  CA-2019-152156  8/11/2019  11/11/2019  Second Class    CG-12520   \n",
       "1       2  CA-2019-152156  8/11/2019  11/11/2019  Second Class    CG-12520   \n",
       "\n",
       "  Customer Name   Segment Country/Region       City     State  Postal Code  \\\n",
       "0   Claire Gute  Consumer  United States  Henderson  Kentucky        42420   \n",
       "1   Claire Gute  Consumer  United States  Henderson  Kentucky        42420   \n",
       "\n",
       "  Region       Product ID   Category Sub-Category  \\\n",
       "0  South  FUR-BO-10001798  Furniture    Bookcases   \n",
       "1  South  FUR-CH-10000454  Furniture       Chairs   \n",
       "\n",
       "                                        Product Name   Sales  Quantity  \\\n",
       "0                  Bush Somerset Collection Bookcase  261.96         2   \n",
       "1  Hon Deluxe Fabric Upholstered Stacking Chairs,...  731.94         3   \n",
       "\n",
       "   Discount    Profit  \n",
       "0       0.0   41.9136  \n",
       "1       0.0  219.5820  "
      ]
     },
     "execution_count": 44,
     "metadata": {},
     "output_type": "execute_result"
    }
   ],
   "source": [
    "df.iloc[[0,1]] #searching 2 rows"
   ]
  },
  {
   "cell_type": "code",
   "execution_count": 46,
   "metadata": {},
   "outputs": [
    {
     "data": {
      "text/plain": [
       "0    Claire Gute\n",
       "1    Claire Gute\n",
       "Name: Customer Name, dtype: object"
      ]
     },
     "execution_count": 46,
     "metadata": {},
     "output_type": "execute_result"
    }
   ],
   "source": [
    "df.iloc[[0,1],6] #searching by name with 2 rows ####index"
   ]
  },
  {
   "cell_type": "code",
   "execution_count": 49,
   "metadata": {},
   "outputs": [
    {
     "data": {
      "text/plain": [
       "0    Claire Gute\n",
       "1    Claire Gute\n",
       "Name: Customer Name, dtype: object"
      ]
     },
     "execution_count": 49,
     "metadata": {},
     "output_type": "execute_result"
    }
   ],
   "source": [
    "df.loc[[0,1],'Customer Name'] ###key is str"
   ]
  },
  {
   "cell_type": "code",
   "execution_count": 51,
   "metadata": {},
   "outputs": [
    {
     "data": {
      "text/html": [
       "<div>\n",
       "<style scoped>\n",
       "    .dataframe tbody tr th:only-of-type {\n",
       "        vertical-align: middle;\n",
       "    }\n",
       "\n",
       "    .dataframe tbody tr th {\n",
       "        vertical-align: top;\n",
       "    }\n",
       "\n",
       "    .dataframe thead th {\n",
       "        text-align: right;\n",
       "    }\n",
       "</style>\n",
       "<table border=\"1\" class=\"dataframe\">\n",
       "  <thead>\n",
       "    <tr style=\"text-align: right;\">\n",
       "      <th></th>\n",
       "      <th>Customer Name</th>\n",
       "      <th>Customer ID</th>\n",
       "    </tr>\n",
       "  </thead>\n",
       "  <tbody>\n",
       "    <tr>\n",
       "      <th>0</th>\n",
       "      <td>Claire Gute</td>\n",
       "      <td>CG-12520</td>\n",
       "    </tr>\n",
       "    <tr>\n",
       "      <th>1</th>\n",
       "      <td>Claire Gute</td>\n",
       "      <td>CG-12520</td>\n",
       "    </tr>\n",
       "  </tbody>\n",
       "</table>\n",
       "</div>"
      ],
      "text/plain": [
       "  Customer Name Customer ID\n",
       "0   Claire Gute    CG-12520\n",
       "1   Claire Gute    CG-12520"
      ]
     },
     "execution_count": 51,
     "metadata": {},
     "output_type": "execute_result"
    }
   ],
   "source": [
    "df.loc[[0,1],['Customer Name','Customer ID']] #row , column"
   ]
  },
  {
   "cell_type": "code",
   "execution_count": 55,
   "metadata": {},
   "outputs": [
    {
     "data": {
      "text/plain": [
       "California        10\n",
       "Kentucky           2\n",
       "Florida            2\n",
       "Texas              2\n",
       "North Carolina     1\n",
       "Washington         1\n",
       "Wisconsin          1\n",
       "Utah               1\n",
       "Name: State, dtype: int64"
      ]
     },
     "execution_count": 55,
     "metadata": {},
     "output_type": "execute_result"
    }
   ],
   "source": [
    "df['State'].value_counts()"
   ]
  },
  {
   "cell_type": "code",
   "execution_count": 62,
   "metadata": {},
   "outputs": [
    {
     "data": {
      "text/html": [
       "<div>\n",
       "<style scoped>\n",
       "    .dataframe tbody tr th:only-of-type {\n",
       "        vertical-align: middle;\n",
       "    }\n",
       "\n",
       "    .dataframe tbody tr th {\n",
       "        vertical-align: top;\n",
       "    }\n",
       "\n",
       "    .dataframe thead th {\n",
       "        text-align: right;\n",
       "    }\n",
       "</style>\n",
       "<table border=\"1\" class=\"dataframe\">\n",
       "  <thead>\n",
       "    <tr style=\"text-align: right;\">\n",
       "      <th></th>\n",
       "      <th>Country/Region</th>\n",
       "      <th>City</th>\n",
       "      <th>State</th>\n",
       "    </tr>\n",
       "  </thead>\n",
       "  <tbody>\n",
       "    <tr>\n",
       "      <th>0</th>\n",
       "      <td>United States</td>\n",
       "      <td>Henderson</td>\n",
       "      <td>Kentucky</td>\n",
       "    </tr>\n",
       "    <tr>\n",
       "      <th>1</th>\n",
       "      <td>United States</td>\n",
       "      <td>Henderson</td>\n",
       "      <td>Kentucky</td>\n",
       "    </tr>\n",
       "    <tr>\n",
       "      <th>2</th>\n",
       "      <td>United States</td>\n",
       "      <td>Los Angeles</td>\n",
       "      <td>California</td>\n",
       "    </tr>\n",
       "  </tbody>\n",
       "</table>\n",
       "</div>"
      ],
      "text/plain": [
       "  Country/Region         City       State\n",
       "0  United States    Henderson    Kentucky\n",
       "1  United States    Henderson    Kentucky\n",
       "2  United States  Los Angeles  California"
      ]
     },
     "execution_count": 62,
     "metadata": {},
     "output_type": "execute_result"
    }
   ],
   "source": [
    "df.loc[0:2,\"Country/Region\":'State']"
   ]
  }
 ],
 "metadata": {
  "interpreter": {
   "hash": "2647ea34e536f865ab67ff9ddee7fd78773d956cec0cab53c79b32cd10da5d83"
  },
  "kernelspec": {
   "display_name": "Python 3.9.0 64-bit",
   "language": "python",
   "name": "python3"
  },
  "language_info": {
   "codemirror_mode": {
    "name": "ipython",
    "version": 3
   },
   "file_extension": ".py",
   "mimetype": "text/x-python",
   "name": "python",
   "nbconvert_exporter": "python",
   "pygments_lexer": "ipython3",
   "version": "3.9.10"
  },
  "orig_nbformat": 4
 },
 "nbformat": 4,
 "nbformat_minor": 2
}
