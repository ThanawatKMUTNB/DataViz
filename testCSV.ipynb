{
 "cells": [
  {
   "cell_type": "code",
   "execution_count": 1,
   "metadata": {},
   "outputs": [
    {
     "name": "stdout",
     "output_type": "stream",
     "text": [
      "eiei by fair\n"
     ]
    }
   ],
   "source": [
    "print('eiei by fair')"
   ]
  },
  {
   "cell_type": "code",
   "execution_count": 28,
   "metadata": {},
   "outputs": [
    {
     "name": "stdout",
     "output_type": "stream",
     "text": [
      "{'Row ID': ['1', '2', '3', '4', '5', '6', '7', '8', '9', '10', '11', '12', '13', '14', '15', '16', '17', '18', '19', '20'], 'Order ID': ['CA-2019-152156', 'CA-2019-152156', 'CA-2019-138688', 'US-2018-108966', 'US-2018-108966', 'CA-2017-115812', 'CA-2017-115812', 'CA-2017-115812', 'CA-2017-115812', 'CA-2017-115812', 'CA-2017-115812', 'CA-2017-115812', 'CA-2020-114412', 'CA-2019-161389', 'US-2018-118983', 'US-2018-118983', 'CA-2017-105893', 'CA-2017-167164', 'CA-2017-143336', 'CA-2017-143336'], 'Order Date': ['8/11/2019', '8/11/2019', '12/6/2019', '11/10/2018', '11/10/2018', '9/6/2017', '9/6/2017', '9/6/2017', '9/6/2017', '9/6/2017', '9/6/2017', '9/6/2017', '15/4/2020', '5/12/2019', '22/11/2018', '22/11/2018', '11/11/2017', '13/5/2017', '27/8/2017', '27/8/2017'], 'Ship Date': ['11/11/2019', '11/11/2019', '16/6/2019', '18/10/2018', '18/10/2018', '14/6/2017', '14/6/2017', '14/6/2017', '14/6/2017', '14/6/2017', '14/6/2017', '14/6/2017', '20/4/2020', '10/12/2019', '26/11/2018', '26/11/2018', '18/11/2017', '15/5/2017', '1/9/2017', '1/9/2017'], 'Ship Mode': ['Second Class', 'Second Class', 'Second Class', 'Standard Class', 'Standard Class', 'Standard Class', 'Standard Class', 'Standard Class', 'Standard Class', 'Standard Class', 'Standard Class', 'Standard Class', 'Standard Class', 'Standard Class', 'Standard Class', 'Standard Class', 'Standard Class', 'Second Class', 'Second Class', 'Second Class'], 'Customer ID': ['CG-12520', 'CG-12520', 'DV-13045', 'SO-20335', 'SO-20335', 'BH-11710', 'BH-11710', 'BH-11710', 'BH-11710', 'BH-11710', 'BH-11710', 'BH-11710', 'AA-10480', 'IM-15070', 'HP-14815', 'HP-14815', 'PK-19075', 'AG-10270', 'ZD-21925', 'ZD-21925'], 'Customer Name': ['Claire Gute', 'Claire Gute', 'Darrin Van Huff', \"Sean O'Donnell\", \"Sean O'Donnell\", 'Brosina Hoffman', 'Brosina Hoffman', 'Brosina Hoffman', 'Brosina Hoffman', 'Brosina Hoffman', 'Brosina Hoffman', 'Brosina Hoffman', 'Andrew Allen', 'Irene Maddox', 'Harold Pawlan', 'Harold Pawlan', 'Pete Kriz', 'Alejandro Grove', 'Zuschuss Donatelli', 'Zuschuss Donatelli'], 'Segment': ['Consumer', 'Consumer', 'Corporate', 'Consumer', 'Consumer', 'Consumer', 'Consumer', 'Consumer', 'Consumer', 'Consumer', 'Consumer', 'Consumer', 'Consumer', 'Consumer', 'Home Office', 'Home Office', 'Consumer', 'Consumer', 'Consumer', 'Consumer'], 'Country/Region': ['United States', 'United States', 'United States', 'United States', 'United States', 'United States', 'United States', 'United States', 'United States', 'United States', 'United States', 'United States', 'United States', 'United States', 'United States', 'United States', 'United States', 'United States', 'United States', 'United States'], 'City': ['Henderson', 'Henderson', 'Los Angeles', 'Fort Lauderdale', 'Fort Lauderdale', 'Los Angeles', 'Los Angeles', 'Los Angeles', 'Los Angeles', 'Los Angeles', 'Los Angeles', 'Los Angeles', 'Concord', 'Seattle', 'Fort Worth', 'Fort Worth', 'Madison', 'West Jordan', 'San Francisco', 'San Francisco'], 'State': ['Kentucky', 'Kentucky', 'California', 'Florida', 'Florida', 'California', 'California', 'California', 'California', 'California', 'California', 'California', 'North Carolina', 'Washington', 'Texas', 'Texas', 'Wisconsin', 'Utah', 'California', 'California'], 'Postal Code': ['42420', '42420', '90036', '33311', '33311', '90032', '90032', '90032', '90032', '90032', '90032', '90032', '28027', '98103', '76106', '76106', '53711', '84084', '94109', '94109'], 'Region': ['South', 'South', 'West', 'South', 'South', 'West', 'West', 'West', 'West', 'West', 'West', 'West', 'South', 'West', 'Central', 'Central', 'Central', 'West', 'West', 'West'], 'Product ID': ['FUR-BO-10001798', 'FUR-CH-10000454', 'OFF-LA-10000240', 'FUR-TA-10000577', 'OFF-ST-10000760', 'FUR-FU-10001487', 'OFF-AR-10002833', 'TEC-PH-10002275', 'OFF-BI-10003910', 'OFF-AP-10002892', 'FUR-TA-10001539', 'TEC-PH-10002033', 'OFF-PA-10002365', 'OFF-BI-10003656', 'OFF-AP-10002311', 'OFF-BI-10000756', 'OFF-ST-10004186', 'OFF-ST-10000107', 'OFF-AR-10003056', 'TEC-PH-10001949'], 'Category': ['Furniture', 'Furniture', 'Office Supplies', 'Furniture', 'Office Supplies', 'Furniture', 'Office Supplies', 'Technology', 'Office Supplies', 'Office Supplies', 'Furniture', 'Technology', 'Office Supplies', 'Office Supplies', 'Office Supplies', 'Office Supplies', 'Office Supplies', 'Office Supplies', 'Office Supplies', 'Technology'], 'Sub-Category': ['Bookcases', 'Chairs', 'Labels', 'Tables', 'Storage', 'Furnishings', 'Art', 'Phones', 'Binders', 'Appliances', 'Tables', 'Phones', 'Paper', 'Binders', 'Appliances', 'Binders', 'Storage', 'Storage', 'Art', 'Phones'], 'Product Name': ['Bush Somerset Collection Bookcase', 'Hon Deluxe Fabric Upholstered Stacking Chairs, Rounded Back', 'Self-Adhesive Address Labels for Typewriters by Universal', 'Bretford CR4500 Series Slim Rectangular Table', \"Eldon Fold 'N Roll Cart System\", 'Eldon Expressions Wood and Plastic Desk Accessories, Cherry Wood', 'Newell 322', 'Mitel 5320 IP Phone VoIP phone', 'DXL Angle-View Binders with Locking Rings by Samsill', 'Belkin F5C206VTEL 6 Outlet Surge', 'Chromcraft Rectangular Conference Tables', 'Konftel 250 Conference\\xa0phone\\xa0- Charcoal black', 'Xerox 1967', 'Fellowes PB200 Plastic Comb Binding Machine', 'Holmes Replacement Filter for HEPA Air Cleaner, Very Large Room, HEPA Filter', 'Storex DuraTech Recycled Plastic Frosted Binders', 'Stur-D-Stor Shelving, Vertical 5-Shelf: 72\"H x 36\"W x 18 1/2\"D', 'Fellowes Super Stor/Drawer', 'Newell 341', 'Cisco SPA 501G IP Phone'], 'Sales': ['261.96', '731.94', '14.62', '957.5775', '22.368', '48.86', '7.28', '907.152', '18.504', '114.9', '1706.184', '911.424', '15.552', '407.976', '68.81', '2.544', '665.88', '55.5', '8.56', '213.48'], 'Quantity': ['2', '3', '2', '5', '2', '7', '4', '6', '3', '5', '9', '4', '3', '3', '5', '3', '6', '2', '2', '3'], 'Discount': ['0', '0', '0', '0.45', '0.2', '0', '0', '0.2', '0.2', '0', '0.2', '0.2', '0.2', '0.2', '0.8', '0.8', '0', '0', '0', '0.2'], 'Profit': ['41.9136', '219.582', '6.8714', '-383.031', '2.5164', '14.1694', '1.9656', '90.7152', '5.7825', '34.47', '85.3092', '68.3568', '5.4432', '132.5922', '-123.858', '-3.816', '13.3176', '9.99', '2.4824', '16.011']}\n"
     ]
    }
   ],
   "source": [
    "import csv\n",
    "file = open('SS_20lines.csv')\n",
    "csvreader = csv.reader(file)\n",
    "header = []\n",
    "data = {}\n",
    "header = next(csvreader)\n",
    "for i in range(len(header)):\n",
    "    data[header[i]] = []\n",
    "\n",
    "for row in csvreader:\n",
    "    if \"\" in row:\n",
    "        break\n",
    "    for i in range(len(row)):\n",
    "        data[header[i]].append(row[i])\n",
    "    #print(row[0])\n",
    "\n",
    "\n",
    "    \n",
    "#print(header)\n",
    "print(data)\n",
    "file.close()\n",
    "#type(csvreader)"
   ]
  },
  {
   "cell_type": "code",
   "execution_count": null,
   "metadata": {},
   "outputs": [],
   "source": []
  }
 ],
 "metadata": {
  "interpreter": {
   "hash": "2647ea34e536f865ab67ff9ddee7fd78773d956cec0cab53c79b32cd10da5d83"
  },
  "kernelspec": {
   "display_name": "Python 3.9.0 64-bit",
   "language": "python",
   "name": "python3"
  },
  "language_info": {
   "codemirror_mode": {
    "name": "ipython",
    "version": 3
   },
   "file_extension": ".py",
   "mimetype": "text/x-python",
   "name": "python",
   "nbconvert_exporter": "python",
   "pygments_lexer": "ipython3",
   "version": "3.9.0"
  },
  "orig_nbformat": 4
 },
 "nbformat": 4,
 "nbformat_minor": 2
}
